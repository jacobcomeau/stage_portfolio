{
 "cells": [
  {
   "cell_type": "code",
   "execution_count": 101,
   "metadata": {},
   "outputs": [
    {
     "data": {
      "application/javascript": "IPython.OutputArea.prototype._should_scroll = function(lines) {\n    return false;\n}\n",
      "text/plain": [
       "<IPython.core.display.Javascript object>"
      ]
     },
     "metadata": {},
     "output_type": "display_data"
    }
   ],
   "source": [
    "%%javascript\n",
    "IPython.OutputArea.prototype._should_scroll = function(lines) {\n",
    "    return false;\n",
    "}"
   ]
  },
  {
   "cell_type": "code",
   "execution_count": 102,
   "metadata": {},
   "outputs": [],
   "source": [
    "%matplotlib inline\n",
    "import matplotlib\n",
    "import matplotlib.pyplot as plt\n",
    "import numpy as np\n",
    "import os\n",
    "import pandas as pd\n",
    "import pickle\n",
    "import itertools\n",
    "import seaborn as sns\n",
    "import warnings; warnings.filterwarnings(\"ignore\")\n",
    "\n",
    "from os.path import join, exists, isfile, isdir\n",
    "from os import makedirs, listdir\n",
    "\n",
    "font = {'family' : 'normal',\n",
    "        'weight' : 'normal',\n",
    "        'size'   : 8}\n",
    "matplotlib.rc('font', **font)"
   ]
  },
  {
   "cell_type": "code",
   "execution_count": 103,
   "metadata": {},
   "outputs": [],
   "source": [
    "#datasets = [\"breast\", \"ads\", \"adult\", \"farm\", \"mnist17\", \"mnist49\", \"mnist56\"]\n",
    "datasets = [\"breast\"]\n",
    "#experiments = [\"baseline\", \"greedy_kernel\", \"landmarks_based\"]\n",
    "experiments = [\"greedy_kernel\"]"
   ]
  },
  {
   "attachments": {},
   "cell_type": "markdown",
   "metadata": {},
   "source": [
    "### Loading results"
   ]
  },
  {
   "cell_type": "code",
   "execution_count": 104,
   "metadata": {},
   "outputs": [],
   "source": [
    "results_path = join(\".\", \"results\")\n",
    "output_path = join(\".\", \"results\", \"fig\")\n",
    "if not(exists(output_path)): makedirs(output_path)"
   ]
  },
  {
   "cell_type": "code",
   "execution_count": 105,
   "metadata": {},
   "outputs": [],
   "source": [
    "def load_dir_results(dir_path):\n",
    "    dir_results = []\n",
    "    for f in [f for f in listdir(dir_path) if (isfile(join(dir_path, f)) and f.endswith(\".pkl\"))]:\n",
    "        with open(join(dir_path, f), 'rb') as in_file:\n",
    "            dir_results += pickle.load(in_file)\n",
    "                \n",
    "    for d in [d for d in listdir(dir_path) if isdir(join(dir_path, d))]:\n",
    "        dir_results += load_dir_results(join(dir_path, d))\n",
    "    \n",
    "    return dir_results\n",
    "\n",
    "def load_results(results_path):\n",
    "    # Loading\n",
    "    results = []\n",
    "    for exp in set(listdir(results_path)).intersection(experiments):\n",
    "        results += load_dir_results(join(results_path, exp))\n",
    "    results = pd.DataFrame(results)\n",
    "    return results"
   ]
  },
  {
   "cell_type": "code",
   "execution_count": 106,
   "metadata": {},
   "outputs": [],
   "source": [
    "results_file = join(output_path, \"results.pkl\")\n",
    "if not exists(results_file):\n",
    "    results = load_results(results_path)\n",
    "    with open(results_file, 'wb') as out_file:\n",
    "        pickle.dump(results, out_file)\n",
    "        \n",
    "with open(results_file, 'rb') as in_file:\n",
    "    results = pickle.load(in_file)\n",
    "results = load_results(results_path)\n",
    "results_per_dataset = {d:results.loc[results.dataset == d] for d in datasets}"
   ]
  },
  {
   "attachments": {},
   "cell_type": "markdown",
   "metadata": {},
   "source": [
    "# Greedy Kernel Learning"
   ]
  },
  {
   "cell_type": "code",
   "execution_count": 107,
   "metadata": {},
   "outputs": [
    {
     "name": "stdout",
     "output_type": "stream",
     "text": [
      "breast\n",
      "    dataset     exp   algo       C    D      N    gamma   beta  train_error  \\\n",
      "0    breast  greedy  PBRFF     0.1    1  20000  0.00001   10.0     0.117647   \n",
      "1    breast  greedy  PBRFF     1.0    2  20000  0.00001   10.0     0.067647   \n",
      "2    breast  greedy  PBRFF  1000.0    3  20000  0.00001   10.0     0.067647   \n",
      "3    breast  greedy  PBRFF  1000.0    4  20000  0.00001   10.0     0.067647   \n",
      "4    breast  greedy  PBRFF  1000.0    5  20000  0.00001   10.0     0.058824   \n",
      "..      ...     ...    ...     ...  ...    ...      ...    ...          ...   \n",
      "219  breast  greedy  PBRFF  1000.0  300  20000  0.00001  100.0     0.058824   \n",
      "220  breast  greedy  PBRFF  1000.0  350  20000  0.00001  100.0     0.067647   \n",
      "221  breast  greedy  PBRFF  1000.0  400  20000  0.00001  100.0     0.064706   \n",
      "222  breast  greedy  PBRFF  1000.0  450  20000  0.00001  100.0     0.055882   \n",
      "223  breast  greedy  PBRFF  1000.0  500  20000  0.00001  100.0     0.061765   \n",
      "\n",
      "     val_error  test_error        f1  \\\n",
      "0     0.139535    0.062937  0.951872   \n",
      "1     0.151163    0.027972  0.977778   \n",
      "2     0.139535    0.041958  0.965517   \n",
      "3     0.139535    0.027972  0.977528   \n",
      "4     0.081395    0.041958  0.966667   \n",
      "..         ...         ...       ...   \n",
      "219   0.116279    0.027972  0.978022   \n",
      "220   0.116279    0.034965  0.972376   \n",
      "221   0.127907    0.013986  0.988889   \n",
      "222   0.116279    0.027972  0.978022   \n",
      "223   0.116279    0.034965  0.972678   \n",
      "\n",
      "                                                  time  \n",
      "0    [(sampling, 28.918027877807617), (loss, 337.66...  \n",
      "1    [(sampling, 28.918027877807617), (loss, 337.66...  \n",
      "2    [(sampling, 28.918027877807617), (loss, 337.66...  \n",
      "3    [(sampling, 28.918027877807617), (loss, 337.66...  \n",
      "4    [(sampling, 28.918027877807617), (loss, 337.66...  \n",
      "..                                                 ...  \n",
      "219  [(sampling, 28.918027877807617), (loss, 337.66...  \n",
      "220  [(sampling, 28.918027877807617), (loss, 337.66...  \n",
      "221  [(sampling, 28.918027877807617), (loss, 337.66...  \n",
      "222  [(sampling, 28.918027877807617), (loss, 337.66...  \n",
      "223  [(sampling, 28.918027877807617), (loss, 337.66...  \n",
      "\n",
      "[224 rows x 13 columns]\n"
     ]
    }
   ],
   "source": [
    "for d in datasets:\n",
    "    print(d)\n",
    "    r = results_per_dataset[d]\n",
    "    print(r)\n",
    "    with open(\"/Users/jacobcomeau/Desktop/resultat_PBRFF_GREEDY.pkl\", 'wb') as out_file:\n",
    "        pickle.dump(results, out_file)\n"
   ]
  },
  {
   "cell_type": "code",
   "execution_count": 108,
   "metadata": {},
   "outputs": [
    {
     "name": "stderr",
     "output_type": "stream",
     "text": [
      "findfont: Font family 'normal' not found.\n",
      "findfont: Font family 'normal' not found.\n",
      "findfont: Font family 'normal' not found.\n",
      "findfont: Font family 'normal' not found.\n",
      "findfont: Font family 'normal' not found.\n",
      "findfont: Font family 'normal' not found.\n",
      "findfont: Font family 'normal' not found.\n",
      "findfont: Font family 'normal' not found.\n",
      "findfont: Font family 'normal' not found.\n",
      "findfont: Font family 'normal' not found.\n",
      "findfont: Font family 'normal' not found.\n",
      "findfont: Font family 'normal' not found.\n",
      "findfont: Font family 'normal' not found.\n",
      "findfont: Font family 'normal' not found.\n",
      "findfont: Font family 'normal' not found.\n",
      "findfont: Font family 'normal' not found.\n",
      "findfont: Font family 'normal' not found.\n",
      "findfont: Font family 'normal' not found.\n",
      "findfont: Font family 'normal' not found.\n",
      "findfont: Font family 'normal' not found.\n"
     ]
    },
    {
     "name": "stdout",
     "output_type": "stream",
     "text": [
      "%pylab is deprecated, use %matplotlib inline and import the required libraries.\n",
      "Populating the interactive namespace from numpy and matplotlib\n",
      "breast\n"
     ]
    },
    {
     "name": "stderr",
     "output_type": "stream",
     "text": [
      "findfont: Font family 'normal' not found.\n",
      "findfont: Font family 'normal' not found.\n",
      "findfont: Font family 'normal' not found.\n",
      "findfont: Font family 'normal' not found.\n",
      "findfont: Font family 'normal' not found.\n",
      "findfont: Font family 'normal' not found.\n",
      "findfont: Font family 'normal' not found.\n",
      "findfont: Font family 'normal' not found.\n",
      "findfont: Font family 'normal' not found.\n",
      "findfont: Font family 'normal' not found.\n",
      "findfont: Font family 'normal' not found.\n",
      "findfont: Font family 'normal' not found.\n",
      "findfont: Font family 'normal' not found.\n",
      "findfont: Font family 'normal' not found.\n",
      "findfont: Font family 'normal' not found.\n",
      "findfont: Font family 'normal' not found.\n",
      "findfont: Font family 'normal' not found.\n",
      "findfont: Font family 'normal' not found.\n",
      "findfont: Font family 'normal' not found.\n",
      "findfont: Font family 'normal' not found.\n",
      "findfont: Font family 'normal' not found.\n",
      "findfont: Font family 'normal' not found.\n",
      "findfont: Font family 'normal' not found.\n",
      "findfont: Font family 'normal' not found.\n",
      "findfont: Font family 'normal' not found.\n",
      "findfont: Font family 'normal' not found.\n"
     ]
    },
    {
     "data": {
      "image/png": "[encoded data removed]",
      "text/plain": [
       "<Figure size 600x400 with 1 Axes>"
      ]
     },
     "metadata": {},
     "output_type": "display_data"
    }
   ],
   "source": [
    "N = 20000\n",
    "max_D = 5000\n",
    "\n",
    "%pylab inline\n",
    "pylab.rcParams['figure.figsize'] = (6, 4)\n",
    "for d in datasets:\n",
    "    print(d)\n",
    "    r = results_per_dataset[d]\n",
    "\n",
    "    # # SVM\n",
    "    # svm_error = list(r.loc[r.algo == 'SVM']['test_error'])[0]\n",
    "    # plt.axhline(y=svm_error, color='r', linestyle='-', linewidth=1, label=\"SVM RBF\")\n",
    "\n",
    "    # # RFF\n",
    "    # r_rff = r.loc[r.algo == 'RFF'].loc[r.D <= max_D].set_index('D')\n",
    "    # plt.semilogx(r_rff['train_error'], \"--\", label=f\"RFF-train\",color ='g', linewidth=0.9, alpha=0.4)\n",
    "    # plt.semilogx(r_rff['test_error'], \"-\", label=f\"RFF-test\", color ='g', linewidth=1.1)\n",
    "    \n",
    "    # # Optimized Kernel RFF\n",
    "    # r_okrff = r.loc[r.algo == 'OKRFF'].loc[r.D <= max_D]\n",
    "    # r_okrff = r.loc[r_okrff.groupby(['D'])[\"val_error\"].idxmin()].set_index('D')\n",
    "    # plt.semilogx(r_okrff['train_error'], \"--\", label=f\"OKRFF-train\", color ='y', linewidth=0.9,alpha=0.4)\n",
    "    # plt.semilogx(r_okrff['test_error'], \"-\", label=f\"OKRFF-test\", color ='y', linewidth=1)\n",
    "    \n",
    "    # PAC-Bayes RFF\n",
    "    r_pbrff = r.loc[r.algo == 'PBRFF'].loc[r.D <= max_D].sort_values('beta', ascending=False)\n",
    "    r_pbrff = r.loc[r_pbrff.groupby(['D'])[\"val_error\"].idxmin()].set_index('D')\n",
    "    plt.semilogx(r_pbrff['train_error'], \"--\", label=f\"PBRFF-train\", color ='b', linewidth=0.9,alpha=0.4)\n",
    "    plt.semilogx(r_pbrff['test_error'], \"-\", label=f\"PBRFF-test\", color ='b', linewidth=1)\n",
    "    \n",
    "    sns.despine(top=True, right=True)\n",
    "    if d in [\"mnist49\", \"mnist17\"]:\n",
    "        leg = plt.legend(frameon=True, fontsize='x-large')\n",
    "        leg_lines = leg.get_lines()\n",
    "        plt.setp(leg_lines, linewidth=1.3)\n",
    "    plt.tight_layout()\n",
    "    plt.autoscale(enable=True, axis='x', tight=True)\n",
    "    tick_params(axis='both', which='both', pad=2, direction='in', labelsize=11)\n",
    "    plt.savefig(join(output_path, f\"error_vs_features_{d}.pdf\"))\n",
    "    plt.show()"
   ]
  },
  {
   "attachments": {},
   "cell_type": "markdown",
   "metadata": {},
   "source": [
    "# Landmarks-Based Learning"
   ]
  },
  {
   "attachments": {},
   "cell_type": "markdown",
   "metadata": {},
   "source": [
    "####  Test error of the landmarks-based approach"
   ]
  },
  {
   "cell_type": "code",
   "execution_count": 109,
   "metadata": {},
   "outputs": [],
   "source": [
    "# landmarks_method = 'clustering'\n",
    "# perc_landmarks = 0.1\n",
    "# beta = 1\n",
    "# D = 64\n",
    "\n",
    "# ### SVM ###\n",
    "# svm_results = pd.DataFrame(results.loc[results.algo == 'SVM'].set_index('dataset')['test_error'])\\\n",
    "#                                                              .rename(columns={'test_error': 'svm'})\n",
    "\n",
    "# ### RBF ###\n",
    "# rbf_results = pd.DataFrame(results.loc[(results.algo == 'RBF') & \\\n",
    "#                                        (results.perc_landmarks == perc_landmarks) & \\\n",
    "#                                        (results.method == landmarks_method)] \\\n",
    "#                                        .set_index('dataset')['test_error']) \\\n",
    "#                                        .rename(columns={'test_error': 'rbf'})\n",
    "\n",
    "# ### PAC-Bayes ###\n",
    "# pb_results = results.loc[(results.algo == 'PB') & (results.perc_landmarks == perc_landmarks) & \\\n",
    "#                          (results.method == landmarks_method)].sort_values('beta', ascending=True)\n",
    "\n",
    "# # beta and D optimized on validation set\n",
    "\n",
    "# pb_results_optimized = pd.DataFrame(pb_results.loc[pb_results.groupby(['method', 'perc_landmarks', 'dataset']) \\\n",
    "#                                                   [\"val_error\"].idxmin()].set_index('dataset')['test_error']) \\\n",
    "#                                                   .rename(columns={'test_error': 'pb'})\n",
    "\n",
    "# # beta fixed, D optimized on validation set\n",
    "# pb_results_beta = pb_results.loc[pb_results.beta == beta]\n",
    "# pb_results_beta = pd.DataFrame(pb_results_beta.loc[pb_results_beta.groupby(['method', 'perc_landmarks', 'dataset']) \\\n",
    "#                                                   [\"val_error\"].idxmin()].set_index('dataset')['test_error'])\\\n",
    "#                                                   .rename(columns={'test_error': 'pb_beta'})\n",
    "\n",
    "# # beta optimized on validation set, D fixed\n",
    "# pb_results_D = pb_results.loc[pb_results.D == D]\n",
    "# pb_results_D = pd.DataFrame(pb_results_D.loc[pb_results_D.groupby(['method', 'perc_landmarks', 'dataset']) \\\n",
    "#                                             [\"val_error\"].idxmin()].set_index('dataset')['test_error']) \\\n",
    "#                                             .rename(columns={'test_error': 'pb_D'})\n",
    "\n",
    "\n",
    "# table = svm_results.join(rbf_results).join(pb_results_optimized).join(pb_results_beta).join(pb_results_D)\n",
    "# table = (100*table).round(2).sort_index()\n",
    "# print(table.to_latex())"
   ]
  },
  {
   "attachments": {},
   "cell_type": "markdown",
   "metadata": {},
   "source": [
    "#### Behavior of the Landmarks-based approach according to the percentage of training points selected as landmarks"
   ]
  },
  {
   "cell_type": "code",
   "execution_count": 110,
   "metadata": {},
   "outputs": [],
   "source": [
    "# %pylab inline\n",
    "# pylab.rcParams['figure.figsize'] = (7, 5)\n",
    "# for d in datasets:\n",
    "#     print(f\"Dataset: {d}\")\n",
    "#     r = results_per_dataset[d]\n",
    "    \n",
    "#     ### SVM ###\n",
    "#     svm_error = list(r.loc[r.algo == 'SVM']['test_error'])[0]\n",
    "#     plt.axhline(y=svm_error, color='r', linestyle='-', linewidth=1.2, label=\"SVM RBF\")\n",
    "    \n",
    "#     ### RBF ###\n",
    "#     r_rbf = r.loc[r.algo == 'RBF'].sort_values('perc_landmarks')\n",
    "#     for method in r_rbf.method.unique():\n",
    "#         plt.plot(r_rbf.loc[r_rbf.method == method].set_index(['perc_landmarks'])['test_error'], \n",
    "#                  '--' if method == \"random\" else \"-\", \n",
    "#                  label=f\"RBF Landmarks\" + (\"-R\" if method == \"random\" else \"-C\"),\n",
    "#                  color = 'g',\n",
    "#                  linewidth=1)\n",
    "        \n",
    "#     ### PAC-Bayes ###\n",
    "#     r_pb = r.loc[r.algo == 'PB'].sort_values('perc_landmarks', ascending=False).sort_values('beta', ascending=True)\n",
    "\n",
    "#     # Selecting beta and D based on error on the validation set\n",
    "#     r_pb = r_pb.loc[r_pb.groupby(['method', 'perc_landmarks'])[\"val_error\"].idxmin()]\n",
    "#     for method in r_pb.method.unique():\n",
    "#         plt.plot(r_pb.loc[r_pb.method == method].set_index(['perc_landmarks'])['test_error'], \n",
    "#                  '--' if method == \"random\" else \"-\", \n",
    "#                  label=f\"PB Landmarks\"  + (\"-R\" if method == \"random\" else \"-C\"),\n",
    "#                  color = 'b',\n",
    "#                  linewidth = 1)\n",
    "\n",
    "#     plt.xlabel(\"Percentage of landmarks\", fontsize=14)\n",
    "#     plt.ylabel(\"Misclassification error\", fontsize=14)\n",
    "#     sns.despine(top=True, right=True)\n",
    "#     plt.tight_layout()\n",
    "#     plt.autoscale(enable=True, axis='x', tight=True)\n",
    "#     plt.tick_params(axis='both', which='both', pad=3, direction='out', labelsize=12)\n",
    "#     if d == \"farm\":\n",
    "#         plt.legend(frameon=True, fontsize='large')\n",
    "#     elif d == \"ads\":\n",
    "#         plt.legend(frameon=True, fontsize='large',loc=(0.64, 0.32))\n",
    "#     plt.savefig(join(output_path, f\"error_landmarks_{d}.pdf\"))\n",
    "#     plt.show()"
   ]
  },
  {
   "cell_type": "code",
   "execution_count": null,
   "metadata": {},
   "outputs": [],
   "source": []
  }
 ],
 "metadata": {
  "kernelspec": {
   "display_name": "Python 3",
   "language": "python",
   "name": "python3"
  },
  "language_info": {
   "codemirror_mode": {
    "name": "ipython",
    "version": 3
   },
   "file_extension": ".py",
   "mimetype": "text/x-python",
   "name": "python",
   "nbconvert_exporter": "python",
   "pygments_lexer": "ipython3",
   "version": "3.10.8"
  }
 },
 "nbformat": 4,
 "nbformat_minor": 2
}
